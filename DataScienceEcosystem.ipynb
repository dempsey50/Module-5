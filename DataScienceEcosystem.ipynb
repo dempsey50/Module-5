{
 "cells": [
  {
   "cell_type": "markdown",
   "id": "424cf00a-59b3-4500-9483-bce0449a4e64",
   "metadata": {},
   "source": [
    "# Data Science Tools and Ecosystem"
   ]
  },
  {
   "cell_type": "markdown",
   "id": "c9bad70f-f56a-47f8-8a6e-809d228d5c31",
   "metadata": {},
   "source": [
    "In this notebook, Data Science Tools and Ecosystem are summarized."
   ]
  },
  {
   "cell_type": "markdown",
   "id": "fefba985-7ebf-4623-813f-ee339c2139dd",
   "metadata": {},
   "source": [
    "**Objectives:**\n",
    "\n",
    "- List popular languages for Data Science\n",
    "- List some of the commonly used libraries used by Data Scientists\n",
    "- Create a code cell to multiply and add numbers\n",
    "- Create a code cell to convert minutes to hours"
   ]
  },
  {
   "cell_type": "markdown",
   "id": "4273637f-6fc2-456f-b741-3001d37c4bc2",
   "metadata": {},
   "source": [
    "Some of the popular languages that Data Scientists use are:\n",
    "\n",
    "1. Python\n",
    "2. R\n",
    "3. SQL"
   ]
  },
  {
   "cell_type": "markdown",
   "id": "16889afa-72db-46fe-bfc3-ed603b197ba0",
   "metadata": {},
   "source": [
    "Some of the commonly used libraries used by Data Scientists include:\n",
    "\n",
    "1. NumPy\n",
    "2. Pandas\n",
    "3. Matplotlib\n",
    "4. ggplot\n",
    "5. caret\n",
    "6. dplyr"
   ]
  },
  {
   "cell_type": "markdown",
   "id": "921a206b-14d9-4253-b9b8-dbc0fe717c90",
   "metadata": {},
   "source": [
    "| Data Science Tools |\n",
    "---------------------|\n",
    "Jupyter Notebook |\n",
    "RStudio |\n",
    "VS Code |"
   ]
  },
  {
   "cell_type": "markdown",
   "id": "3ed9c9b3-9460-477e-a0b4-655cdfc4f3da",
   "metadata": {},
   "source": [
    "### Below are a few examples of evaluating arithmetic expressions in Python"
   ]
  },
  {
   "cell_type": "code",
   "execution_count": 1,
   "id": "5be0af28-4e4d-4ab4-8414-fbf823bd7445",
   "metadata": {},
   "outputs": [
    {
     "data": {
      "text/plain": [
       "17"
      ]
     },
     "execution_count": 1,
     "metadata": {},
     "output_type": "execute_result"
    }
   ],
   "source": [
    "# This a simple arithmetic expression to mutiply then add integers\n",
    "\n",
    "(3*4)+5"
   ]
  },
  {
   "cell_type": "code",
   "execution_count": 2,
   "id": "793d9763-f4f4-4b38-933f-976425b909e3",
   "metadata": {},
   "outputs": [
    {
     "data": {
      "text/plain": [
       "3.3333333333333335"
      ]
     },
     "execution_count": 2,
     "metadata": {},
     "output_type": "execute_result"
    }
   ],
   "source": [
    "# This will convert 200 minutes to hours by diving by 60\n",
    "\n",
    "200/60"
   ]
  },
  {
   "cell_type": "markdown",
   "id": "7df9e715-c46d-4824-925d-fc16b14be2c0",
   "metadata": {},
   "source": [
    "## Author\n",
    "\n",
    "Don M Matshazi"
   ]
  },
  {
   "cell_type": "code",
   "execution_count": null,
   "id": "b6370a80-3f3f-4d89-87d3-2cb4676ffc24",
   "metadata": {},
   "outputs": [],
   "source": []
  }
 ],
 "metadata": {
  "kernelspec": {
   "display_name": "Python [conda env:base] *",
   "language": "python",
   "name": "conda-base-py"
  },
  "language_info": {
   "codemirror_mode": {
    "name": "ipython",
    "version": 3
   },
   "file_extension": ".py",
   "mimetype": "text/x-python",
   "name": "python",
   "nbconvert_exporter": "python",
   "pygments_lexer": "ipython3",
   "version": "3.13.5"
  }
 },
 "nbformat": 4,
 "nbformat_minor": 5
}
